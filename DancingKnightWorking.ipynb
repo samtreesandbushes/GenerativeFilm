{
 "cells": [
  {
   "cell_type": "markdown",
   "id": "7f8f0012",
   "metadata": {},
   "source": [
    "Generative film notebook 001\n",
    "\n",
    "\n",
    "Aims :\n",
    "\n",
    "- grab 3 x random videos from youtube \n",
    "- cut into small pieces and concatenate with one another to create a new film\n",
    "\n",
    "- add search parameters\n",
    "- add \n",
    "\n",
    "\n"
   ]
  },
  {
   "cell_type": "code",
   "execution_count": 4,
   "id": "f56df7dd",
   "metadata": {},
   "outputs": [],
   "source": [
    "\n",
    "# fix for ImageMagick bug from https://github.com/Zulko/moviepy/issues/347\n",
    "from moviepy.config import change_settings"
   ]
  },
  {
   "cell_type": "code",
   "execution_count": 5,
   "id": "7b67d915",
   "metadata": {},
   "outputs": [],
   "source": [
    "# found this path using brew info imageMagick\n",
    "change_settings({\"IMAGEMAGICK_BINARY\": \"/opt/homebrew/Cellar/imagemagick/7.1.0-27/bin/convert\"})\n"
   ]
  },
  {
   "cell_type": "code",
   "execution_count": 6,
   "id": "fa3c7c9d",
   "metadata": {},
   "outputs": [],
   "source": [
    "import os\n",
    "import sys\n",
    "\n",
    "import numpy as np\n",
    "\n",
    "from moviepy import *\n",
    "from moviepy.video import *\n",
    "\n",
    "from moviepy.audio.tools.cuts import find_audio_period\n",
    "from moviepy.video.tools.cuts import find_video_period\n",
    "\n",
    "from moviepy.audio.AudioClip import *\n",
    "from moviepy.editor import VideoFileClip, AudioFileClip, TextClip, concatenate_videoclips, clips_array, vfx, CompositeVideoClip\n",
    "\n",
    "\n",
    "\n",
    "\n"
   ]
  },
  {
   "cell_type": "code",
   "execution_count": 7,
   "id": "6b65ae32",
   "metadata": {},
   "outputs": [],
   "source": [
    "\n",
    "\n",
    "# Next lines are for downloading the required videos from Youtube.\n",
    "# To do this you must have youtube-dl installed, otherwise you will need to\n",
    "# download the videos by hand and rename them, as follows:\n",
    "#     https://www.youtube.com/watch?v=zvCvOC2VwDc => knights.mp4\n",
    "#     https://www.youtube.com/watch?v=lkY3Ek9VPtg => frontier.mp4\n",
    "\n",
    "if not os.path.exists(\"knights.mp4\") and not os.path.exists(\"frontier.webm\"):\n",
    "    retcode1 = os.system(\"youtube-dl zvCvOC2VwDc -o knights\")\n",
    "    retcode2 = os.system(\"youtube-dl lkY3Ek9VPtg -o frontier\")\n",
    "    if retcode1 != 0 or retcode2 != 0:\n",
    "        sys.stderr.write(\n",
    "            \"Error downloading videos. Check that you've installed youtube-dl.\\n\"\n",
    "        )\n",
    "        sys.exit(1)"
   ]
  },
  {
   "cell_type": "code",
   "execution_count": 8,
   "id": "325965b6",
   "metadata": {},
   "outputs": [
    {
     "name": "stdout",
     "output_type": "stream",
     "text": [
      "Analyzed the audio, found a period of 0.72 seconds\n"
     ]
    }
   ],
   "source": [
    "# ==========\n",
    "\n",
    "\n",
    "# LOAD, EDIT, ANALYZE THE AUDIO\n",
    "\n",
    "audio = (\n",
    "    AudioFileClip(\"frontier.webm\")\n",
    "    .subclip((1, 7), (1, 18))\n",
    "    .audio_fadein(1)\n",
    "    .audio_fadeout(1)\n",
    ")\n",
    "\n",
    "audio_period = find_audio_period(audio)\n",
    "print(\"Analyzed the audio, found a period of %.02f seconds\" % audio_period)\n"
   ]
  },
  {
   "cell_type": "code",
   "execution_count": 9,
   "id": "ab086434",
   "metadata": {},
   "outputs": [
    {
     "name": "stdout",
     "output_type": "stream",
     "text": [
      "Analyzed the video, found a period of 1.23 seconds\n"
     ]
    }
   ],
   "source": [
    "# LOAD, EDIT, ANALYZE THE VIDEO\n",
    "\n",
    "clip = (\n",
    "    VideoFileClip(\"knights.mp4\", audio=False)\n",
    "    .subclip((1, 24.15), (1, 26))\n",
    "    .crop(x1=500, x2=1350)\n",
    ")\n",
    "\n",
    "video_period = find_video_period(clip, tmin=.3)\n",
    "print(\"Analyzed the video, found a period of %.02f seconds\" % video_period)\n",
    "\n",
    "edited_right = (\n",
    "    clip.subclip(0, video_period)\n",
    "    .speedx(final_duration=2 * audio_period)\n",
    "    .fx(vfx.loop, duration=audio.duration)\n",
    "    .subclip(0.25)\n",
    ")\n",
    "\n",
    "edited_left = edited_right.fx(vfx.mirror_x)\n",
    "\n"
   ]
  },
  {
   "cell_type": "code",
   "execution_count": 10,
   "id": "ae4207b1",
   "metadata": {},
   "outputs": [],
   "source": [
    "\n",
    "clips = [[edited_left, edited_right]]\n",
    "final_video = clips_array(clips)\n",
    "\n",
    "dancing_knights = (\n",
    "    final_video.fadein(1).fadeout(1).set_audio(audio).subclip(.3)\n",
    ")"
   ]
  },
  {
   "cell_type": "code",
   "execution_count": 11,
   "id": "8bc837c8",
   "metadata": {},
   "outputs": [],
   "source": [
    "# MAKE THE TITLE SCREEN\n",
    "\n",
    "txt_title = (TextClip(\"15th century dancing\\n(hypothetical)\", fontsize=70,\n",
    "               font=\"Century-Schoolbook-Roman\", color=\"white\")\n",
    "             .margin(top=15, opacity=0)\n",
    "             .set_position((\"center\",\"top\")))\n",
    "\n"
   ]
  },
  {
   "cell_type": "code",
   "execution_count": 12,
   "id": "a2baa067",
   "metadata": {},
   "outputs": [],
   "source": [
    "title = (CompositeVideoClip([dancing_knights.to_ImageClip(), txt_title])\n",
    "         .fadein(.5)\n",
    "         .set_duration(3.5))\n",
    "\n",
    "\n"
   ]
  },
  {
   "cell_type": "code",
   "execution_count": 13,
   "id": "5e488622",
   "metadata": {},
   "outputs": [],
   "source": [
    "\n",
    "# MAKE THE CREDITS SCREEN\n",
    "\n",
    "\n",
    "txt_credits = \"\"\"\n",
    "CREDITS\n",
    "\n",
    "Video excerpt: Le combat en armure au XVe siècle\n",
    "By J. Donzé, D. Jaquet, T. Schmuziger,\n",
    "Université de Genève, Musée National de Moyen Age\n",
    "\n",
    "Music: \"Frontier\", by DOCTOR VOX\n",
    "Under licence Creative Commons\n",
    "https://www.youtube.com/user/DOCTORVOXofficial\n",
    "\n",
    "Video editing © Zulko 2014\n",
    " Licence Creative Commons (CC BY 4.0)\n",
    "Edited with MoviePy: http://zulko.github.io/moviepy/\n",
    "\"\"\"\n",
    "\n",
    "credits = (TextClip(txt_credits, color='white',\n",
    "            font=\"Century-Schoolbook-Roman\", fontsize=35, kerning=-2,\n",
    "            interline=-1, bg_color='black', size=title.size)\n",
    "          .set_duration(2.5)\n",
    "          .fadein(.5)\n",
    "          .fadeout(.5))\n",
    "\n",
    "\n",
    "\n"
   ]
  },
  {
   "cell_type": "code",
   "execution_count": 14,
   "id": "8877318d",
   "metadata": {},
   "outputs": [
    {
     "name": "stdout",
     "output_type": "stream",
     "text": [
      "Moviepy - Building video dancing_knights.mp4.\n",
      "MoviePy - Writing audio in dancing_knightsTEMP_MPY_wvf_snd.mp4\n"
     ]
    },
    {
     "name": "stderr",
     "output_type": "stream",
     "text": [
      "                                                                                                                                                  \r"
     ]
    },
    {
     "name": "stdout",
     "output_type": "stream",
     "text": [
      "MoviePy - Done.\n",
      "Moviepy - Writing video dancing_knights.mp4\n",
      "\n"
     ]
    },
    {
     "name": "stderr",
     "output_type": "stream",
     "text": [
      "                                                                                                                                                  \r"
     ]
    },
    {
     "name": "stdout",
     "output_type": "stream",
     "text": [
      "Moviepy - Done !\n",
      "Moviepy - video ready dancing_knights.mp4\n"
     ]
    }
   ],
   "source": [
    "# ASSEMBLE EVERYTHING, WRITE TO FILE\n",
    "\n",
    "final = concatenate_videoclips([title, dancing_knights, credits])\n",
    "\n",
    "\n",
    "final.write_videofile(\"dancing_knights0.mp4\",\n",
    "                      fps=clip.fps,\n",
    "                      audio_bitrate=\"1000k\", \n",
    "                      bitrate=\"4000k\",\n",
    "                     codec='libx264', \n",
    "                     audio_codec='aac', \n",
    "                     )"
   ]
  },
  {
   "cell_type": "markdown",
   "id": "dd24f9a4",
   "metadata": {},
   "source": [
    "==================================================================================================="
   ]
  },
  {
   "cell_type": "markdown",
   "id": "ee3a50ea",
   "metadata": {},
   "source": [
    "NOW MY OWN VERSION WITH BOWIE"
   ]
  },
  {
   "cell_type": "code",
   "execution_count": 20,
   "id": "563602a8",
   "metadata": {},
   "outputs": [
    {
     "name": "stdout",
     "output_type": "stream",
     "text": [
      "[youtube] zvCvOC2VwDc: Downloading webpage\n",
      "[download] knights.mp4 has already been downloaded and merged\n",
      "[youtube] WoDamvrfUbQ: Downloading webpage\n",
      "[download] Destination: BOWIE.mp3\n",
      "[download] 100% of 2.84MiB in 00:5701KiB/s ETA 00:00\n",
      "[ffmpeg] Correcting container in \"BOWIE.mp3\"\n",
      "[ffmpeg] Post-process file BOWIE.mp3 exists, skipping\n"
     ]
    }
   ],
   "source": [
    "\n",
    "\n",
    "import os\n",
    "\n",
    "from moviepy.audio.tools.cuts import find_audio_period\n",
    "from moviepy.editor import *\n",
    "from moviepy.video.tools.cuts import find_video_period\n",
    "\n",
    "# Next lines are for downloading the required videos from Youtube.\n",
    "# To do this you must have youtube-dl installed, otherwise you will need to\n",
    "# download the videos by hand and rename them, as follows:\n",
    "#     https://www.youtube.com/watch?v=zvCvOC2VwDc => knights.mp4\n",
    "#     https://www.youtube.com/watch?v=lkY3Ek9VPtg => frontier.mp4\n",
    "\n",
    "\n",
    "# this doesnt work atm - even if frontier added, its not an mp4 and audio silent on final file\n",
    "\n",
    "\n",
    "if not os.path.exists(\"bowie.mp3\"):\n",
    "    os.system(\"youtube-dl zvCvOC2VwDc -o knights.mp4\")\n",
    "    os.system(\"youtube-dl -x --audio-format mp3 WoDamvrfUbQ -o BOWIE.mp3\")\n",
    "    \n",
    "#==========\n"
   ]
  },
  {
   "cell_type": "code",
   "execution_count": 21,
   "id": "5614f838",
   "metadata": {},
   "outputs": [
    {
     "name": "stdout",
     "output_type": "stream",
     "text": [
      "Analyzed the audio, found a period of 0.29 seconds\n",
      "Analyzed the video, found a period of 1.23 seconds\n",
      "Moviepy - Building video swinging_knights.mp4.\n",
      "MoviePy - Writing audio in swinging_knightsTEMP_MPY_wvf_snd.mp4\n"
     ]
    },
    {
     "name": "stderr",
     "output_type": "stream",
     "text": [
      "                                                                                                                                                  \r"
     ]
    },
    {
     "name": "stdout",
     "output_type": "stream",
     "text": [
      "MoviePy - Done.\n",
      "Moviepy - Writing video swinging_knights.mp4\n",
      "\n"
     ]
    },
    {
     "name": "stderr",
     "output_type": "stream",
     "text": [
      "                                                                                                                                                  \r"
     ]
    },
    {
     "name": "stdout",
     "output_type": "stream",
     "text": [
      "Moviepy - Done !\n",
      "Moviepy - video ready swinging_knights.mp4\n"
     ]
    }
   ],
   "source": [
    "\n",
    "\n",
    "# LOAD, EDIT, ANALYZE THE AUDIO\n",
    "\n",
    "\n",
    "# Had to edit this to use with alternative music - \n",
    "# subclip(self, t_start=0, t_end=None)\n",
    "# Returns a clip playing the content of the current clip between times t_start and t_end,\n",
    "# which can be expressed in seconds (15.35), in (min, sec), in (hour, min, sec)\n",
    "\n",
    "audio = (AudioFileClip(\"bowie.mp3\")\n",
    "         .subclip((1,7), (1,18))\n",
    "         .audio_fadein(1)\n",
    "         .audio_fadeout(1))\n",
    "\n",
    "\n",
    "\n",
    "audio_period = find_audio_period(audio)\n",
    "print ('Analyzed the audio, found a period of %.02f seconds'%audio_period)\n",
    "\n",
    "\n",
    "# LOAD, EDIT, ANALYZE THE VIDEO\n",
    "\n",
    "\n",
    "clip = (VideoFileClip(\"./knights.mp4\", audio=False)\n",
    "        .subclip((1,24.15),(1,26))\n",
    "        .crop(x1=500, x2=1350))\n",
    "\n",
    "video_period = find_video_period(clip, tmin=.3)\n",
    "print ('Analyzed the video, found a period of %.02f seconds'%video_period)\n",
    "\n",
    "edited_right = (clip.subclip(0,video_period)\n",
    "                .speedx(final_duration=2*audio_period)\n",
    "                .fx(vfx.loop, duration=audio.duration)\n",
    "                .subclip(.25))\n",
    "\n",
    "edited_left = edited_right.fx(vfx.mirror_x)\n",
    "\n",
    "dancing_knights = (clips_array([[edited_left, edited_right]])\n",
    "                   .fadein(1).fadeout(1).set_audio(audio).subclip(.3))\n",
    "\n",
    "# MAKE THE TITLE SCREEN\n",
    "\n",
    "\n",
    "txt_title = (TextClip(\"15th century dancing\\n(hypothetical)\", fontsize=70,\n",
    "               font=\"Century-Schoolbook-Roman\", color=\"white\")\n",
    "             .margin(top=15, opacity=0)\n",
    "             .set_position((\"center\",\"top\")))\n",
    "\n",
    "title = (CompositeVideoClip([dancing_knights.to_ImageClip(), txt_title])\n",
    "         .fadein(.5)\n",
    "         .set_duration(3.5))\n",
    "\n",
    "\n",
    "# MAKE THE CREDITS SCREEN\n",
    "\n",
    "\n",
    "txt_credits = \"\"\"\n",
    "CREDITS\n",
    "\n",
    "Video excerpt: Le combat en armure au XVe siècle\n",
    "By J. Donzé, D. Jaquet, T. Schmuziger,\n",
    "Université de Genève, Musée National de Moyen Age\n",
    "\n",
    "Music: by BOWIE\n",
    "Under licence Creative Commons\n",
    "https://www.youtube.com/user/DOCTORVOXofficial\n",
    "\n",
    "Video editing © SAM 2022\n",
    " Licence Creative Commons (CC BY 4.0)\n",
    "Edited with MoviePy: http://zulko.github.io/moviepy/\n",
    "\"\"\"\n",
    "\n",
    "credits = (TextClip(txt_credits, color='white',\n",
    "            font=\"Century-Schoolbook-Roman\", fontsize=35, kerning=-2,\n",
    "            interline=-1, bg_color='black', size=title.size)\n",
    "          .set_duration(2.5)\n",
    "          .fadein(.5)\n",
    "          .fadeout(.5))\n",
    "\n",
    "\n",
    "# ASSEMBLE EVERYTHING, WRITE TO FILE\n",
    "\n",
    "final = concatenate_videoclips([title, dancing_knights, credits])\n",
    "\n",
    "\n",
    "final.write_videofile(\"swinging_knights.mp4\",\n",
    "                      fps=clip.fps,\n",
    "                      audio_bitrate=\"1000k\", \n",
    "                      bitrate=\"4000k\",\n",
    "                     codec='libx264', \n",
    "                     audio_codec='aac'\n",
    "                     )"
   ]
  },
  {
   "cell_type": "markdown",
   "id": "4ff3fde0",
   "metadata": {},
   "source": [
    "======================================================================================================"
   ]
  },
  {
   "cell_type": "markdown",
   "id": "a84daa3b",
   "metadata": {},
   "source": [
    "MORE EXPERIMENTS"
   ]
  },
  {
   "cell_type": "code",
   "execution_count": 4,
   "id": "516b2743",
   "metadata": {},
   "outputs": [
    {
     "name": "stdout",
     "output_type": "stream",
     "text": [
      "[download] Downloading playlist: ducklings\n",
      "[youtube:search] query \"ducklings\": Downloading page 1\n",
      "[youtube:search] playlist ducklings: Downloading 2 videos\n",
      "[download] Downloading video 1 of 2\n",
      "[youtube] e90eWYPNtJ8: Downloading webpage\n"
     ]
    },
    {
     "name": "stderr",
     "output_type": "stream",
     "text": [
      "WARNING: Requested formats are incompatible for merge and will be merged into mkv.\n"
     ]
    },
    {
     "name": "stdout",
     "output_type": "stream",
     "text": [
      "[download] Destination: Cute Duckling 🔴 Funniest Baby Ducks Videos Compilation 2020-e90eWYPNtJ8.f137.mp4\n",
      "[download] 100% of 158.02MiB in 34:1864KiB/s ETA 00:00500\n",
      "[download] Destination: Cute Duckling 🔴 Funniest Baby Ducks Videos Compilation 2020-e90eWYPNtJ8.f251.webm\n",
      "[download] 100% of 9.71MiB in 03:5931KiB/s ETA 00:00:13\n",
      "[ffmpeg] Merging formats into \"Cute Duckling 🔴 Funniest Baby Ducks Videos Compilation 2020-e90eWYPNtJ8.mkv\"\n",
      "Deleting original file Cute Duckling 🔴 Funniest Baby Ducks Videos Compilation 2020-e90eWYPNtJ8.f137.mp4 (pass -k to keep)\n",
      "Deleting original file Cute Duckling 🔴 Funniest Baby Ducks Videos Compilation 2020-e90eWYPNtJ8.f251.webm (pass -k to keep)\n",
      "[download] Downloading video 2 of 2\n",
      "[youtube] 8B8ULO4plhg: Downloading webpage\n"
     ]
    },
    {
     "name": "stderr",
     "output_type": "stream",
     "text": [
      "WARNING: Requested formats are incompatible for merge and will be merged into mkv.\n"
     ]
    },
    {
     "name": "stdout",
     "output_type": "stream",
     "text": [
      "[download] Destination: five little ducklings _ nursery rhymes farmees _ kids songs _ 3d rhymes by Farmees-8B8ULO4plhg.f137.mp4\n",
      "[download]   1.8% of 828.23MiB at 60.69KiB/s ETA 03:48:477"
     ]
    },
    {
     "name": "stderr",
     "output_type": "stream",
     "text": [
      "\n",
      "ERROR: Interrupted by user\n"
     ]
    },
    {
     "data": {
      "text/plain": [
       "256"
      ]
     },
     "execution_count": 4,
     "metadata": {},
     "output_type": "execute_result"
    }
   ],
   "source": [
    "# Searching for a specific term (outputting the first 2 videos)\n",
    "\n",
    "os.system(\"youtube-dl 'ytsearch2:ducklings' \")\n",
    "\n",
    "\n"
   ]
  },
  {
   "cell_type": "code",
   "execution_count": null,
   "id": "7ba395fc",
   "metadata": {},
   "outputs": [],
   "source": [
    "# Trying with CC licensed only\n",
    "os.system(\"youtube-dl 'ytsearch1:ducklings' --match-filter 'license='Creative Commons Attribution license (reuse allowed)'' \")\n",
    "\n",
    "\n"
   ]
  },
  {
   "cell_type": "code",
   "execution_count": 39,
   "id": "f16cd3c5",
   "metadata": {},
   "outputs": [
    {
     "name": "stderr",
     "output_type": "stream",
     "text": [
      "ffmpeg version 4.2.2 Copyright (c) 2000-2019 the FFmpeg developers\n",
      "  built with clang version 4.0.1 (tags/RELEASE_401/final)\n",
      "  configuration: --prefix=/opt/miniconda3 --cc=x86_64-apple-darwin13.4.0-clang --disable-doc --enable-avresample --enable-gmp --enable-hardcoded-tables --enable-libfreetype --enable-libvpx --enable-pthreads --enable-libopus --enable-postproc --enable-pic --enable-pthreads --enable-shared --enable-static --enable-version3 --enable-zlib --enable-libmp3lame --disable-nonfree --enable-gpl --enable-gnutls --disable-openssl --enable-libopenh264 --enable-libx264\n",
      "  libavutil      56. 31.100 / 56. 31.100\n",
      "  libavcodec     58. 54.100 / 58. 54.100\n",
      "  libavformat    58. 29.100 / 58. 29.100\n",
      "  libavdevice    58.  8.100 / 58.  8.100\n",
      "  libavfilter     7. 57.100 /  7. 57.100\n",
      "  libavresample   4.  0.  0 /  4.  0.  0\n",
      "  libswscale      5.  5.100 /  5.  5.100\n",
      "  libswresample   3.  5.100 /  3.  5.100\n",
      "  libpostproc    55.  5.100 / 55.  5.100\n",
      "Input #0, mov,mp4,m4a,3gp,3g2,mj2, from 'knights.mp4':\n",
      "  Metadata:\n",
      "    major_brand     : isom\n",
      "    minor_version   : 512\n",
      "    compatible_brands: isomiso2avc1mp41\n",
      "    encoder         : Lavf58.29.100\n",
      "  Duration: 00:03:48.21, start: 0.000000, bitrate: 1952 kb/s\n",
      "    Stream #0:0(und): Video: h264 (High) (avc1 / 0x31637661), yuv420p, 1920x1072 [SAR 1:1 DAR 120:67], 1819 kb/s, 29.97 fps, 29.97 tbr, 90k tbn, 59.94 tbc (default)\n",
      "    Metadata:\n",
      "      handler_name    : VideoHandler\n",
      "    Stream #0:1(und): Audio: aac (LC) (mp4a / 0x6134706D), 44100 Hz, stereo, fltp, 125 kb/s (default)\n",
      "    Metadata:\n",
      "      handler_name    : SoundHandler\n",
      "File 'outputVeryNewVeryyTrim.mp4' already exists. Overwrite ? [y/N] Not overwriting - exiting\n"
     ]
    },
    {
     "ename": "Error",
     "evalue": "ffmpeg error (see stderr output for detail)",
     "output_type": "error",
     "traceback": [
      "\u001b[0;31m---------------------------------------------------------------------------\u001b[0m",
      "\u001b[0;31mError\u001b[0m                                     Traceback (most recent call last)",
      "\u001b[0;32m/var/folders/s0/q9yp2mpx5ld24gvb9dt5yzr80000gp/T/ipykernel_70518/3730990706.py\u001b[0m in \u001b[0;36m<module>\u001b[0;34m\u001b[0m\n\u001b[1;32m     32\u001b[0m \u001b[0mstream\u001b[0m \u001b[0;34m=\u001b[0m \u001b[0mffmpeg\u001b[0m\u001b[0;34m.\u001b[0m\u001b[0mtrim\u001b[0m\u001b[0;34m(\u001b[0m\u001b[0mstream\u001b[0m\u001b[0;34m,\u001b[0m \u001b[0mstart_frame\u001b[0m\u001b[0;34m=\u001b[0m\u001b[0;36m500\u001b[0m\u001b[0;34m,\u001b[0m \u001b[0mend_frame\u001b[0m\u001b[0;34m=\u001b[0m\u001b[0;36m600\u001b[0m\u001b[0;34m)\u001b[0m\u001b[0;34m\u001b[0m\u001b[0;34m\u001b[0m\u001b[0m\n\u001b[1;32m     33\u001b[0m \u001b[0mstream\u001b[0m \u001b[0;34m=\u001b[0m \u001b[0mffmpeg\u001b[0m\u001b[0;34m.\u001b[0m\u001b[0moutput\u001b[0m\u001b[0;34m(\u001b[0m\u001b[0mstream\u001b[0m\u001b[0;34m,\u001b[0m \u001b[0;34m'outputVeryNewVeryyTrim.mp4'\u001b[0m\u001b[0;34m)\u001b[0m\u001b[0;34m\u001b[0m\u001b[0;34m\u001b[0m\u001b[0m\n\u001b[0;32m---> 34\u001b[0;31m \u001b[0mffmpeg\u001b[0m\u001b[0;34m.\u001b[0m\u001b[0mrun\u001b[0m\u001b[0;34m(\u001b[0m\u001b[0mstream\u001b[0m\u001b[0;34m)\u001b[0m\u001b[0;34m\u001b[0m\u001b[0;34m\u001b[0m\u001b[0m\n\u001b[0m\u001b[1;32m     35\u001b[0m \u001b[0mstream\u001b[0m\u001b[0;34m\u001b[0m\u001b[0;34m\u001b[0m\u001b[0m\n\u001b[1;32m     36\u001b[0m \u001b[0;31m# test\u001b[0m\u001b[0;34m\u001b[0m\u001b[0;34m\u001b[0m\u001b[0;34m\u001b[0m\u001b[0m\n",
      "\u001b[0;32m/opt/miniconda3/lib/python3.7/site-packages/ffmpeg/_run.py\u001b[0m in \u001b[0;36mrun\u001b[0;34m(stream_spec, cmd, capture_stdout, capture_stderr, input, quiet, overwrite_output)\u001b[0m\n\u001b[1;32m    323\u001b[0m     \u001b[0mretcode\u001b[0m \u001b[0;34m=\u001b[0m \u001b[0mprocess\u001b[0m\u001b[0;34m.\u001b[0m\u001b[0mpoll\u001b[0m\u001b[0;34m(\u001b[0m\u001b[0;34m)\u001b[0m\u001b[0;34m\u001b[0m\u001b[0;34m\u001b[0m\u001b[0m\n\u001b[1;32m    324\u001b[0m     \u001b[0;32mif\u001b[0m \u001b[0mretcode\u001b[0m\u001b[0;34m:\u001b[0m\u001b[0;34m\u001b[0m\u001b[0;34m\u001b[0m\u001b[0m\n\u001b[0;32m--> 325\u001b[0;31m         \u001b[0;32mraise\u001b[0m \u001b[0mError\u001b[0m\u001b[0;34m(\u001b[0m\u001b[0;34m'ffmpeg'\u001b[0m\u001b[0;34m,\u001b[0m \u001b[0mout\u001b[0m\u001b[0;34m,\u001b[0m \u001b[0merr\u001b[0m\u001b[0;34m)\u001b[0m\u001b[0;34m\u001b[0m\u001b[0;34m\u001b[0m\u001b[0m\n\u001b[0m\u001b[1;32m    326\u001b[0m     \u001b[0;32mreturn\u001b[0m \u001b[0mout\u001b[0m\u001b[0;34m,\u001b[0m \u001b[0merr\u001b[0m\u001b[0;34m\u001b[0m\u001b[0;34m\u001b[0m\u001b[0m\n\u001b[1;32m    327\u001b[0m \u001b[0;34m\u001b[0m\u001b[0m\n",
      "\u001b[0;31mError\u001b[0m: ffmpeg error (see stderr output for detail)"
     ]
    }
   ],
   "source": [
    "# from https://unix.stackexchange.com/questions/230481/how-to-download-portion-of-video-with-youtube-dl-command\n",
    "\n",
    "import ffmpeg \n",
    "import random\n",
    "# First acquire the actual URL using youtube-dl:\n",
    "#getURL = os.system(\"youtube-dl 'https://www.youtube.com/watch?v=MtN1YnoL46Q'\")\n",
    "\n",
    "# Something like this? but how to pass??\n",
    "# ffmpeg -ss 00:00:15.00 -i getURL -t 00:00:10.00\n",
    "   \n",
    "# parameters here https://kkroening.github.io/ffmpeg-python/\n",
    "\n",
    "# test = (\n",
    "#     ffmpeg\n",
    "#     .input(getURL)\n",
    "#     .trim(start_frame=100, end_frame=250,duration=6)\n",
    "#     .output(\"out.mp4\")\n",
    "#     #.global_args('-report')\n",
    "#     .run()\n",
    "# )                \n",
    "\n",
    "import ffmpeg\n",
    "\n",
    "rand=random.randint(2000,5000)\n",
    "randy=rand+200\n",
    "\n",
    "# note ffmpeg.run(stream) flunks out if it involves overwriting... need to add an argument\n",
    "# the trim command makes for a weird cutting ( long pause then the slice i want )\n",
    "\n",
    "import ffmpeg\n",
    "stream = ffmpeg.input('knights.mp4')\n",
    "stream = ffmpeg.trim(stream, start_frame=500, end_frame=600)\n",
    "stream = ffmpeg.output(stream, 'outputVeryNewVeryyTrim.mp4')\n",
    "ffmpeg.run(stream)\n",
    "stream\n",
    "# test\n",
    "\n",
    "print(\"YASS\")"
   ]
  },
  {
   "cell_type": "code",
   "execution_count": 42,
   "id": "9fab9ba9",
   "metadata": {},
   "outputs": [
    {
     "name": "stdout",
     "output_type": "stream",
     "text": [
      "\n"
     ]
    },
    {
     "name": "stderr",
     "output_type": "stream",
     "text": [
      "ffmpeg version 4.2.2 Copyright (c) 2000-2019 the FFmpeg developers\n",
      "  built with clang version 4.0.1 (tags/RELEASE_401/final)\n",
      "  configuration: --prefix=/opt/miniconda3 --cc=x86_64-apple-darwin13.4.0-clang --disable-doc --enable-avresample --enable-gmp --enable-hardcoded-tables --enable-libfreetype --enable-libvpx --enable-pthreads --enable-libopus --enable-postproc --enable-pic --enable-pthreads --enable-shared --enable-static --enable-version3 --enable-zlib --enable-libmp3lame --disable-nonfree --enable-gpl --enable-gnutls --disable-openssl --enable-libopenh264 --enable-libx264\n",
      "  libavutil      56. 31.100 / 56. 31.100\n",
      "  libavcodec     58. 54.100 / 58. 54.100\n",
      "  libavformat    58. 29.100 / 58. 29.100\n",
      "  libavdevice    58.  8.100 / 58.  8.100\n",
      "  libavfilter     7. 57.100 /  7. 57.100\n",
      "  libavresample   4.  0.  0 /  4.  0.  0\n",
      "  libswscale      5.  5.100 /  5.  5.100\n",
      "  libswresample   3.  5.100 /  3.  5.100\n",
      "  libpostproc    55.  5.100 / 55.  5.100\n",
      "Input #0, mov,mp4,m4a,3gp,3g2,mj2, from 'knights.mp4':\n",
      "  Metadata:\n",
      "    major_brand     : isom\n",
      "    minor_version   : 512\n",
      "    compatible_brands: isomiso2avc1mp41\n",
      "    encoder         : Lavf58.29.100\n",
      "  Duration: 00:03:48.21, start: 0.000000, bitrate: 1952 kb/s\n",
      "    Stream #0:0(und): Video: h264 (High) (avc1 / 0x31637661), yuv420p, 1920x1072 [SAR 1:1 DAR 120:67], 1819 kb/s, 29.97 fps, 29.97 tbr, 90k tbn, 59.94 tbc (default)\n",
      "    Metadata:\n",
      "      handler_name    : VideoHandler\n",
      "    Stream #0:1(und): Audio: aac (LC) (mp4a / 0x6134706D), 44100 Hz, stereo, fltp, 125 kb/s (default)\n",
      "    Metadata:\n",
      "      handler_name    : SoundHandler\n",
      "Output #0, mp4, to 'output0.mp4':\n",
      "  Metadata:\n",
      "    major_brand     : isom\n",
      "    minor_version   : 512\n",
      "    compatible_brands: isomiso2avc1mp41\n",
      "    encoder         : Lavf58.29.100\n",
      "    Stream #0:0(und): Video: h264 (High) (avc1 / 0x31637661), yuv420p, 1920x1072 [SAR 1:1 DAR 120:67], q=2-31, 1819 kb/s, 29.97 fps, 29.97 tbr, 90k tbn, 90k tbc (default)\n",
      "    Metadata:\n",
      "      handler_name    : VideoHandler\n",
      "    Stream #0:1(und): Audio: aac (LC) (mp4a / 0x6134706D), 44100 Hz, stereo, fltp, 125 kb/s (default)\n",
      "    Metadata:\n",
      "      handler_name    : SoundHandler\n",
      "Stream mapping:\n",
      "  Stream #0:0 -> #0:0 (copy)\n",
      "  Stream #0:1 -> #0:1 (copy)\n",
      "Press [q] to stop, [?] for help\n",
      "frame=  299 fps=0.0 q=-1.0 Lsize=    2398kB time=00:00:09.99 bitrate=1966.0kbits/s speed= 837x    \n",
      "video:2234kB audio:153kB subtitle:0kB other streams:0kB global headers:0kB muxing overhead: 0.464025%\n",
      "ffmpeg version 4.2.2 Copyright (c) 2000-2019 the FFmpeg developers\n",
      "  built with clang version 4.0.1 (tags/RELEASE_401/final)\n",
      "  configuration: --prefix=/opt/miniconda3 --cc=x86_64-apple-darwin13.4.0-clang --disable-doc --enable-avresample --enable-gmp --enable-hardcoded-tables --enable-libfreetype --enable-libvpx --enable-pthreads --enable-libopus --enable-postproc --enable-pic --enable-pthreads --enable-shared --enable-static --enable-version3 --enable-zlib --enable-libmp3lame --disable-nonfree --enable-gpl --enable-gnutls --disable-openssl --enable-libopenh264 --enable-libx264\n",
      "  libavutil      56. 31.100 / 56. 31.100\n",
      "  libavcodec     58. 54.100 / 58. 54.100\n",
      "  libavformat    58. 29.100 / 58. 29.100\n",
      "  libavdevice    58.  8.100 / 58.  8.100\n",
      "  libavfilter     7. 57.100 /  7. 57.100\n",
      "  libavresample   4.  0.  0 /  4.  0.  0\n",
      "  libswscale      5.  5.100 /  5.  5.100\n",
      "  libswresample   3.  5.100 /  3.  5.100\n",
      "  libpostproc    55.  5.100 / 55.  5.100\n",
      "Input #0, mov,mp4,m4a,3gp,3g2,mj2, from 'knights.mp4':\n",
      "  Metadata:\n",
      "    major_brand     : isom\n",
      "    minor_version   : 512\n",
      "    compatible_brands: isomiso2avc1mp41\n",
      "    encoder         : Lavf58.29.100\n",
      "  Duration: 00:03:48.21, start: 0.000000, bitrate: 1952 kb/s\n",
      "    Stream #0:0(und): Video: h264 (High) (avc1 / 0x31637661), yuv420p, 1920x1072 [SAR 1:1 DAR 120:67], 1819 kb/s, 29.97 fps, 29.97 tbr, 90k tbn, 59.94 tbc (default)\n",
      "    Metadata:\n",
      "      handler_name    : VideoHandler\n",
      "    Stream #0:1(und): Audio: aac (LC) (mp4a / 0x6134706D), 44100 Hz, stereo, fltp, 125 kb/s (default)\n",
      "    Metadata:\n",
      "      handler_name    : SoundHandler\n",
      "Output #0, mp4, to 'output1.mp4':\n",
      "  Metadata:\n",
      "    major_brand     : isom\n",
      "    minor_version   : 512\n",
      "    compatible_brands: isomiso2avc1mp41\n",
      "    encoder         : Lavf58.29.100\n",
      "    Stream #0:0(und): Video: h264 (High) (avc1 / 0x31637661), yuv420p, 1920x1072 [SAR 1:1 DAR 120:67], q=2-31, 1819 kb/s, 29.97 fps, 29.97 tbr, 90k tbn, 90k tbc (default)\n",
      "    Metadata:\n",
      "      handler_name    : VideoHandler\n",
      "    Stream #0:1(und): Audio: aac (LC) (mp4a / 0x6134706D), 44100 Hz, stereo, fltp, 125 kb/s (default)\n",
      "    Metadata:\n",
      "      handler_name    : SoundHandler\n",
      "Stream mapping:\n",
      "  Stream #0:0 -> #0:0 (copy)\n",
      "  Stream #0:1 -> #0:1 (copy)\n",
      "Press [q] to stop, [?] for help\n",
      "frame=  296 fps=0.0 q=-1.0 Lsize=    2069kB time=00:00:09.98 bitrate=1696.4kbits/s speed= 429x    \n",
      "video:1904kB audio:153kB subtitle:0kB other streams:0kB global headers:0kB muxing overhead: 0.541545%\n",
      "ffmpeg version 4.2.2 Copyright (c) 2000-2019 the FFmpeg developers\n",
      "  built with clang version 4.0.1 (tags/RELEASE_401/final)\n",
      "  configuration: --prefix=/opt/miniconda3 --cc=x86_64-apple-darwin13.4.0-clang --disable-doc --enable-avresample --enable-gmp --enable-hardcoded-tables --enable-libfreetype --enable-libvpx --enable-pthreads --enable-libopus --enable-postproc --enable-pic --enable-pthreads --enable-shared --enable-static --enable-version3 --enable-zlib --enable-libmp3lame --disable-nonfree --enable-gpl --enable-gnutls --disable-openssl --enable-libopenh264 --enable-libx264\n",
      "  libavutil      56. 31.100 / 56. 31.100\n",
      "  libavcodec     58. 54.100 / 58. 54.100\n",
      "  libavformat    58. 29.100 / 58. 29.100\n",
      "  libavdevice    58.  8.100 / 58.  8.100\n",
      "  libavfilter     7. 57.100 /  7. 57.100\n",
      "  libavresample   4.  0.  0 /  4.  0.  0\n",
      "  libswscale      5.  5.100 /  5.  5.100\n",
      "  libswresample   3.  5.100 /  3.  5.100\n",
      "  libpostproc    55.  5.100 / 55.  5.100\n",
      "[mov,mp4,m4a,3gp,3g2,mj2 @ 0x7fd582014a00] Auto-inserting h264_mp4toannexb bitstream filter\n",
      "Input #0, concat, from 'concatenate.txt':\n",
      "  Duration: N/A, start: 0.000000, bitrate: 1959 kb/s\n",
      "    Stream #0:0(und): Video: h264 (High) (avc1 / 0x31637661), yuv420p, 1920x1072 [SAR 1:1 DAR 120:67], 1834 kb/s, 29.97 fps, 29.97 tbr, 90k tbn, 59.94 tbc\n",
      "    Metadata:\n",
      "      handler_name    : VideoHandler\n",
      "    Stream #0:1(und): Audio: aac (LC) (mp4a / 0x6134706D), 44100 Hz, stereo, fltp, 125 kb/s\n",
      "    Metadata:\n",
      "      handler_name    : SoundHandler\n",
      "Output #0, mp4, to 'outputss.mp4':\n",
      "  Metadata:\n",
      "    encoder         : Lavf58.29.100\n",
      "    Stream #0:0(und): Video: h264 (High) (avc1 / 0x31637661), yuv420p, 1920x1072 [SAR 1:1 DAR 120:67], q=2-31, 1834 kb/s, 29.97 fps, 29.97 tbr, 90k tbn, 90k tbc\n",
      "    Metadata:\n",
      "      handler_name    : VideoHandler\n",
      "    Stream #0:1(und): Audio: aac (LC) (mp4a / 0x6134706D), 44100 Hz, stereo, fltp, 125 kb/s\n",
      "    Metadata:\n",
      "      handler_name    : SoundHandler\n",
      "Stream mapping:\n",
      "  Stream #0:0 -> #0:0 (copy)\n",
      "  Stream #0:1 -> #0:1 (copy)\n",
      "Press [q] to stop, [?] for help\n",
      "[mov,mp4,m4a,3gp,3g2,mj2 @ 0x7fd582014a00] Auto-inserting h264_mp4toannexb bitstream filter\n",
      "frame=  595 fps=0.0 q=-1.0 Lsize=    4466kB time=00:00:19.99 bitrate=1829.4kbits/s speed=1.07e+03x    \n",
      "video:4138kB audio:307kB subtitle:0kB other streams:0kB global headers:0kB muxing overhead: 0.469444%\n"
     ]
    }
   ],
   "source": [
    "# ok this works! just horribly verbose\n",
    "\n",
    "# from https://stackoverflow.com/questions/18444194/cutting-the-videos-based-on-start-and-end-time-using-ffmpeg\n",
    "\n",
    "\n",
    "#!/usr/bin/env python3\n",
    "\n",
    "import subprocess\n",
    "\n",
    "def get_duration(input_video):\n",
    "    cmd = [\"ffprobe\", \"-i\", input_video, \"-show_entries\", \"format=duration\",\n",
    "           \"-v\", \"quiet\", \"-sexagesimal\", \"-of\", \"csv=p=0\"]\n",
    "    return subprocess.check_output(cmd).decode(\"utf-8\").strip()\n",
    "\n",
    "\n",
    "def main():\n",
    "    name = \"knights.mp4\"\n",
    "    times = []\n",
    "    times.append([\"00:01:10\", \"00:01:20\"])\n",
    "    times.append([\"00:03:00\", \"00:03:10\"])\n",
    "    # times = [[\"00:00:00\", get_duration(name)]]\n",
    "    if len(times) == 1:\n",
    "        time = times[0]\n",
    "        cmd = [\"ffmpeg\", \"-y\", \"-i\", name, \"-ss\", time[0], \"-to\", time[1], \"-c:v\", \"copy\", \"-c:a\", \"copy\", \"output.mp4\"]\n",
    "        subprocess.check_output(cmd)\n",
    "    else:\n",
    "        open('concatenate.txt', 'w').close()\n",
    "        for idx, time in enumerate(times):\n",
    "            output_filename = f\"output{idx}.mp4\"\n",
    "            cmd = [\"ffmpeg\", \"-y\", \"-i\", name, \"-ss\", time[0], \"-to\", time[1], \"-c:v\", \"copy\", \"-c:a\", \"copy\", output_filename]\n",
    "            subprocess.check_output(cmd)\n",
    "\n",
    "            with open(\"concatenate.txt\", \"a\") as myfile:\n",
    "                myfile.write(f\"file {output_filename}\\n\")\n",
    "\n",
    "        cmd = [\"ffmpeg\", \"-y\", \"-f\", \"concat\", \"-i\", \"concatenate.txt\", \"-c\", \"copy\", \"outputss.mp4\"]\n",
    "        output = subprocess.check_output(cmd).decode(\"utf-8\").strip()\n",
    "        print(output)\n",
    "\n",
    "\n",
    "if __name__ == \"__main__\":\n",
    "    main()"
   ]
  },
  {
   "cell_type": "code",
   "execution_count": null,
   "id": "3605ab9b",
   "metadata": {},
   "outputs": [],
   "source": [
    "# could also try a different wrapper\n",
    "# https://ffmpy.readthedocs.io/en/latest/examples.html"
   ]
  },
  {
   "cell_type": "code",
   "execution_count": null,
   "id": "1ac68fcd",
   "metadata": {},
   "outputs": [],
   "source": [
    "# from https://unix.stackexchange.com/questions/230481/how-to-download-portion-of-video-with-youtube-dl-command\n",
    "\n",
    "# First acquire the actual URL using youtube-dl:\n",
    "youtube-dl -g \"https://www.youtube.com/watch?v=V_f2QkBdbRI\"\n",
    "\n",
    "# \n",
    "\n"
   ]
  },
  {
   "cell_type": "code",
   "execution_count": null,
   "id": "0f98bfb3",
   "metadata": {},
   "outputs": [],
   "source": [
    "#also need to check out this\n",
    "# which i downloaded\n",
    "# https://github.com/kkroening/ffmpeg-python/blob/master/examples/ffmpeg-numpy.ipynb"
   ]
  },
  {
   "cell_type": "code",
   "execution_count": 183,
   "id": "94ba3cfc",
   "metadata": {},
   "outputs": [
    {
     "name": "stderr",
     "output_type": "stream",
     "text": [
      "Traceback (most recent call last):\n",
      "  File \"/opt/miniconda3/bin/youtube-dl\", line 8, in <module>\n",
      "    sys.exit(main())\n",
      "  File \"/opt/miniconda3/lib/python3.7/site-packages/youtube_dl/__init__.py\", line 475, in main\n",
      "    _real_main(argv)\n",
      "  File \"/opt/miniconda3/lib/python3.7/site-packages/youtube_dl/__init__.py\", line 220, in _real_main\n",
      "    date = DateRange.day(opts.date)\n",
      "  File \"/opt/miniconda3/lib/python3.7/site-packages/youtube_dl/utils.py\", line 3116, in day\n",
      "    return cls(day, day)\n",
      "  File \"/opt/miniconda3/lib/python3.7/site-packages/youtube_dl/utils.py\", line 3103, in __init__\n",
      "    self.start = date_from_str(start)\n",
      "  File \"/opt/miniconda3/lib/python3.7/site-packages/youtube_dl/utils.py\", line 3084, in date_from_str\n",
      "    return datetime.datetime.strptime(date_str, '%Y%m%d').date()\n",
      "  File \"/opt/miniconda3/lib/python3.7/_strptime.py\", line 577, in _strptime_datetime\n",
      "    tt, fraction, gmtoff_fraction = _strptime(data_string, format)\n",
      "  File \"/opt/miniconda3/lib/python3.7/_strptime.py\", line 362, in _strptime\n",
      "    data_string[found.end():])\n",
      "ValueError: unconverted data remains: 05\n"
     ]
    },
    {
     "data": {
      "text/plain": [
       "256"
      ]
     },
     "execution_count": 183,
     "metadata": {},
     "output_type": "execute_result"
    }
   ],
   "source": [
    "# still want to get this to work to pull a random date\n",
    "# can try the other date format\n",
    "\n",
    "import os\n",
    "\n",
    "os.system(\"youtube-dl --date 20052405\")\n",
    "\n",
    "\n",
    "\n"
   ]
  },
  {
   "cell_type": "code",
   "execution_count": null,
   "id": "15e1e843",
   "metadata": {},
   "outputs": [],
   "source": [
    "# random script to play with\n",
    "# https://stackoverflow.com/questions/40445885/no-audio-when-adding-mp3-to-videofileclip-moviepy\n",
    "\n",
    "def make_video(images):\n",
    "    image_clips = []\n",
    "    for img in images:\n",
    "        if not os.path.exists(img):\n",
    "            raise FileNotFoundError(img)\n",
    "        ic = ImageClip(img).set_duration(3)\n",
    "        image_clips.append(ic)\n",
    "\n",
    "    video = concatenate(image_clips, method=\"compose\")\n",
    "    video.set_audio(AudioFileClip(\"audio.mp3\")) \n",
    "    video.write_videofile(\"mp4_with_audio.mp4\", fps=60, codec=\"mpeg4\")"
   ]
  },
  {
   "cell_type": "code",
   "execution_count": null,
   "id": "111757e7",
   "metadata": {},
   "outputs": [],
   "source": []
  }
 ],
 "metadata": {
  "kernelspec": {
   "display_name": "Python 3 (ipykernel)",
   "language": "python",
   "name": "python3"
  },
  "language_info": {
   "codemirror_mode": {
    "name": "ipython",
    "version": 3
   },
   "file_extension": ".py",
   "mimetype": "text/x-python",
   "name": "python",
   "nbconvert_exporter": "python",
   "pygments_lexer": "ipython3",
   "version": "3.7.11"
  }
 },
 "nbformat": 4,
 "nbformat_minor": 5
}
