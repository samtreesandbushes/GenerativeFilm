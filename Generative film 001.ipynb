{
 "cells": [
  {
   "cell_type": "markdown",
   "id": "fe3a26ce",
   "metadata": {},
   "source": [
    "--------------------------------------------------------------------------------"
   ]
  },
  {
   "cell_type": "markdown",
   "id": "7f8f0012",
   "metadata": {},
   "source": [
    "\n",
    "01.03.2022\n",
    "\n",
    "<b>GENERATIVE FILM-MAKING NOTEBOOK 001</b>\n",
    "\n",
    "\n",
    "\n",
    "This notebook shows :\n",
    "\n",
    "- how to download a series of few second clips from youtube according to theme\n",
    "- how to cut them together at random to generate short films\n",
    "\n",
    "\n",
    "To do :\n",
    "\n",
    "- iterate over all files in a directory\n",
    "\n",
    "- make the theme a single parameter/string to be shared across all cells\n",
    "\n",
    "- run it multiple times on a long list of films and cuts\n",
    "\n",
    "- add in alpha channel stuff to composit together using video = CompositeVideoClip([clip1,clip2,clip3])\n",
    "\n",
    "\n",
    "Future notebooks :\n",
    "\n",
    "- grab files from folders according to speech\n",
    "- composite to make more complex films with overlays\n",
    "\n"
   ]
  },
  {
   "cell_type": "code",
   "execution_count": 3,
   "id": "f56df7dd",
   "metadata": {},
   "outputs": [],
   "source": [
    "\n",
    "# TASK BEFORE STARTING \n",
    "# WHICH MIGHT BE NECESSARY FOR SOME\n",
    "\n",
    "## This is the fix for ImageMagick bug from https://github.com/Zulko/moviepy/issues/347\n",
    "## ( only needs to be run once on system so just use if needed )\n",
    "#\n",
    "# \n",
    "# You can find relevant path for Imagemagick on Terminal using \"brew info imageMagick\"\n",
    "#\n",
    "#from moviepy.config import change_settings\n",
    "#change_settings({\"IMAGEMAGICK_BINARY\": \"/opt/homebrew/Cellar/imagemagick/7.1.0-27/bin/convert\"})\n",
    "\n",
    "\n",
    "\n"
   ]
  },
  {
   "cell_type": "markdown",
   "id": "fb2221e0",
   "metadata": {},
   "source": [
    "-------------------------------------------------------------------------------------"
   ]
  },
  {
   "cell_type": "markdown",
   "id": "43428359",
   "metadata": {},
   "source": [
    "<b>IMPORT LIBRARIES</b>"
   ]
  },
  {
   "cell_type": "code",
   "execution_count": 9,
   "id": "fa3c7c9d",
   "metadata": {},
   "outputs": [],
   "source": [
    "import os\n",
    "import sys\n",
    "import shutil\n",
    "import glob\n",
    "import random\n",
    "import fnmatch\n",
    "from pathlib import Path\n",
    "\n",
    "import numpy as np\n",
    "\n",
    "from moviepy import *\n",
    "from moviepy.video import *\n",
    "\n",
    "from moviepy.audio.tools.cuts import find_audio_period\n",
    "from moviepy.video.tools.cuts import find_video_period\n",
    "\n",
    "from moviepy.audio.AudioClip import *\n",
    "from moviepy.editor import VideoFileClip, AudioFileClip, TextClip, concatenate_videoclips, clips_array, vfx, CompositeVideoClip\n",
    "\n"
   ]
  },
  {
   "cell_type": "markdown",
   "id": "29f34e5d",
   "metadata": {},
   "source": [
    "-------------------------------------------------------------------------------------"
   ]
  },
  {
   "cell_type": "markdown",
   "id": "60dbf894",
   "metadata": {},
   "source": [
    "<b> DOWNLOAD THE CLIPS </b>"
   ]
  },
  {
   "cell_type": "code",
   "execution_count": 24,
   "id": "cf3cff22",
   "metadata": {},
   "outputs": [
    {
     "name": "stdout",
     "output_type": "stream",
     "text": [
      "[download] Downloading playlist: 80s robots\n",
      "[youtube:search] query \"80s robots\": Downloading page 1\n",
      "[youtube:search] query \"80s robots\": Downloading page 2\n",
      "[youtube:search] query \"80s robots\": Downloading page 3\n",
      "[youtube:search] query \"80s robots\": Downloading page 4\n",
      "[youtube:search] query \"80s robots\": Downloading page 5\n",
      "[youtube:search] query \"80s robots\": Downloading page 6\n",
      "[youtube:search] query \"80s robots\": Downloading page 7\n",
      "[youtube:search] playlist 80s robots: Downloading 100 videos\n",
      "[download] Downloading video 1 of 100\n",
      "[download] Skipping 7080's Super Robot Collection [18], because it has exceeded the maximum view count (46492/50)\n",
      "[download] Downloading video 2 of 100\n",
      "[download] Skipping Herbie Hancock - Rockit (Official Video), because it has exceeded the maximum view count (11484089/50)\n",
      "[download] Downloading video 3 of 100\n",
      "[download] Skipping 9 Forgotten Killer Robots And Mecha B-Films – Cheesy But Super-Fun!, because it has exceeded the maximum view count (117080/50)\n",
      "[download] Downloading video 4 of 100\n",
      "[download] Skipping Top 15 TV Robots of the 1960s, '70s & '80s, because it has exceeded the maximum view count (17900/50)\n",
      "[download] Downloading video 5 of 100\n",
      "[download] Skipping Stupid 80s movie robots, because it has exceeded the maximum view count (20230/50)\n",
      "[download] Downloading video 6 of 100\n",
      "[download] Skipping 3 variations of 1980's TV robots., because it has exceeded the maximum view count (234/50)\n",
      "[download] Downloading video 7 of 100\n",
      "[download] Skipping 1980s tech toys and robot toys, because it has exceeded the maximum view count (24005/50)\n",
      "[download] Downloading video 8 of 100\n",
      "[download] Skipping Styx - Mr. Roboto (Official Video), because it has exceeded the maximum view count (24966653/50)\n",
      "[download] Downloading video 9 of 100\n",
      "[download] Skipping Family guy 80s robots, because it has exceeded the maximum view count (2245/50)\n",
      "[download] Downloading video 10 of 100\n",
      "[download] Skipping Top Best 80s Robot anime cartoons, because it has exceeded the maximum view count (40758/50)\n",
      "[download] Downloading video 11 of 100\n",
      "[download] Skipping Robotix: The Series (1985), because it has exceeded the maximum view count (553180/50)\n",
      "[download] Downloading video 12 of 100\n",
      "[download] Skipping Short Circuit 2 (1988) - Manic Robot Scene (2/10) | Movieclips, because it has exceeded the maximum view count (126100/50)\n",
      "[download] Downloading video 13 of 100\n",
      "[download] Skipping WABOT-2 ROBOT 80's, because it has exceeded the maximum view count (9190/50)\n",
      "[download] Downloading video 14 of 100\n",
      "[download] Skipping How To Do The Robot (Totally Rad 80's Dances), because it has exceeded the maximum view count (800892/50)\n",
      "[download] Downloading video 15 of 100\n",
      "[youtube] xRbK_qFb6pk: Downloading webpage\n",
      "[youtube] xRbK_qFb6pk: Downloading MPD manifest\n"
     ]
    },
    {
     "name": "stderr",
     "output_type": "stream",
     "text": [
      "WARNING: Requested formats are incompatible for merge and will be merged into mkv.\n"
     ]
    },
    {
     "name": "stdout",
     "output_type": "stream",
     "text": [
      "[download] Destination: robots/Robots Dancing in the 80s.f137.mp4\n",
      "[download]  93.5% of 27.82MiB at 71.94KiB/s ETA 00:255[download] Got server HTTP error: [Errno 54] Connection reset by peer. Retrying (attempt 1 of 10)...\n",
      "[download] Destination: robots/Robots Dancing in the 80s.f137.mp4\n",
      "[download] 100% of 27.82MiB in 24:2467KiB/s ETA 00:006\n",
      "[download] Destination: robots/Robots Dancing in the 80s.mp4.f251\n",
      "[download] 100% of 1005.52KiB in 00:1425KiB/s ETA 00:007\n",
      "[ffmpeg] Merging formats into \"robots/Robots Dancing in the 80s.mkv\"\n",
      "Deleting original file robots/Robots Dancing in the 80s.f137.mp4 (pass -k to keep)\n",
      "Deleting original file robots/Robots Dancing in the 80s.mp4.f251 (pass -k to keep)\n",
      "[download] Downloading video 16 of 100\n",
      "[youtube] mOeV3DRp2cE: Downloading webpage\n",
      "[youtube] mOeV3DRp2cE: Downloading MPD manifest\n",
      "[dashsegments] Total fragments: 135\n",
      "[download] Destination: robots/Robots in the 80s [YTP].f299.mp4\n",
      "[download] 100% of 255.57MiB in 02:49.93MiB/s ETA -1:59:599\n",
      "[download] Destination: robots/Robots in the 80s [YTP].mp4.f140\n",
      "[download] 100% of 11.03MiB in 03:4764KiB/s ETA 00:000\n",
      "[ffmpeg] Merging formats into \"robots/Robots in the 80s [YTP].mp4\"\n",
      "Deleting original file robots/Robots in the 80s [YTP].f299.mp4 (pass -k to keep)\n",
      "Deleting original file robots/Robots in the 80s [YTP].mp4.f140 (pass -k to keep)\n",
      "[download] Downloading video 17 of 100\n",
      "[download] Skipping STYX 'Mr. Roboto' - 1980's cool and weird movie robots, because it has exceeded the maximum view count (597/50)\n",
      "[download] Downloading video 18 of 100\n",
      "[download] Skipping TOP 10 - 80's ROBOTS, because it has exceeded the maximum view count (5459/50)\n",
      "[download] Downloading video 19 of 100\n",
      "[download] Skipping The Muppets - Modem, because it has exceeded the maximum view count (45940/50)\n",
      "[download] Downloading video 20 of 100\n",
      "[download] Skipping Top 10 \"Good\" Movie Robots, because it has exceeded the maximum view count (1042773/50)\n",
      "[download] Downloading video 21 of 100\n",
      "[download] Skipping OMNIBOT in Action!   Tomy's 1984 Super Cool Personal Robot, because it has exceeded the maximum view count (18900/50)\n",
      "[download] Downloading video 22 of 100\n",
      "[download] Skipping The Best 80's and 90's Cartoons EVER, because it has exceeded the maximum view count (332736/50)\n",
      "[download] Downloading video 23 of 100\n",
      "[download] Skipping Back To The 80's' - Retro Wave [ A Synthwave/ Chillwave/ Retrowave mix ], because it has exceeded the maximum view count (1604/50)\n",
      "[download] Downloading video 24 of 100\n",
      "[download] Skipping Planetary robots of the 60s and Blue Rover in the 80s, because it has exceeded the maximum view count (286/50)\n",
      "[download] Downloading video 25 of 100\n",
      "[download] Skipping Robot Jox (1/2) Giant Robot Laser Battle (1989) HD, because it has exceeded the maximum view count (239452/50)\n",
      "[download] Downloading video 26 of 100\n",
      "[download] Skipping “My Father Built Robots in the 80s” | Creepypasta Storytime, because it has exceeded the maximum view count (47469/50)\n",
      "[download] Downloading video 27 of 100\n",
      "[download] Skipping Cybertronic Spree Live At Retro Con 2019 | 80s Rock ‘N’ Roll Robots, because it has exceeded the maximum view count (9278/50)\n",
      "[download] Downloading video 28 of 100\n",
      "[download] Skipping Kraftwerk - The Robots (1978), because it has exceeded the maximum view count (1477538/50)\n",
      "[download] Downloading video 29 of 100\n",
      "[download] Skipping Lots of Robots. Lots of Awesome., because it has exceeded the maximum view count (19393/50)\n",
      "[download] Downloading video 30 of 100\n",
      "[download] Skipping Top 25 80's childrens tv intro's, because it has exceeded the maximum view count (10731657/50)\n",
      "[download] Downloading video 31 of 100\n",
      "[download] Skipping Girl Toys | Robot Chicken | Adult Swim, because it has exceeded the maximum view count (5222962/50)\n",
      "[download] Downloading video 32 of 100\n",
      "[download] Skipping Drunk Robots | 80s vs Now | #SHORTS, because it has exceeded the maximum view count (497/50)\n",
      "[download] Downloading video 33 of 100\n",
      "[download] Skipping TOP 10 - 80's ROBOTS, because it has exceeded the maximum view count (5459/50)\n",
      "[download] Downloading video 34 of 100\n",
      "[download] Skipping How to get your toy ROBOTS smoking again!, because it has exceeded the maximum view count (5437/50)\n",
      "[download] Downloading video 35 of 100\n",
      "[download] Skipping 70'-80's Mecha Robots | Voltes V | Daimos | Voltron | Mazinger Z, because it has exceeded the maximum view count (266/50)\n",
      "[download] Downloading video 36 of 100\n",
      "[download] Skipping Midnight Star - Freak-A-Zoid (Official Music Video), because it has exceeded the maximum view count (4977810/50)\n",
      "[download] Downloading video 37 of 100\n",
      "[download] Skipping ROBOT JOX Best Parts (1989) Sci-Fi Movie, because it has exceeded the maximum view count (58219/50)\n",
      "[download] Downloading video 38 of 100\n",
      "[download] Skipping Lost in Space STS-117 B9 Robot Presentation Video, because it has exceeded the maximum view count (942783/50)\n",
      "[download] Downloading video 39 of 100\n",
      "[download] Skipping Atari Robots Promo 80's, because it has exceeded the maximum view count (726/50)\n",
      "[download] Downloading video 40 of 100\n",
      "[download] Skipping Race of 80s Hong Kong robots, because it has exceeded the maximum view count (134/50)\n",
      "[download] Downloading video 41 of 100\n",
      "[download] Skipping Playthings of Yesteryear | Robot Chicken | Adult Swim, because it has exceeded the maximum view count (5039562/50)\n",
      "[download] Downloading video 42 of 100\n",
      "[download] Skipping Giant Robo Without Context, because it has exceeded the maximum view count (321543/50)\n",
      "[download] Downloading video 43 of 100\n",
      "[download] Skipping How \"the robot\" became the greatest novelty dance of all time, because it has exceeded the maximum view count (224785/50)\n",
      "[download] Downloading video 44 of 100\n",
      "[download] Skipping 80s Weekend Night 2 - DJ & 10-ft high Robots - Microsoft Theater - August 13, 2016, because it has exceeded the maximum view count (95/50)\n",
      "[download] Downloading video 45 of 100\n",
      "[download] Skipping Generation Zero - Swedish 80s Robot Survival Simulator, because it has exceeded the maximum view count (105369/50)\n",
      "[download] Downloading video 46 of 100\n",
      "[download] Skipping Top 10 \"Evil\" Movie Robots, because it has exceeded the maximum view count (984674/50)\n",
      "[download] Downloading video 47 of 100\n",
      "[download] Skipping Highly Suspect - My Name Is Human [Official Video], because it has exceeded the maximum view count (103151760/50)\n",
      "[download] Downloading video 48 of 100\n",
      "[download] Skipping Erasure - Always (Official HD Remastered Video), because it has exceeded the maximum view count (41195657/50)\n",
      "[download] Downloading video 49 of 100\n",
      "[download] Skipping Mecha Anime OPs: The 60s & 70s Part 1/3.avi, because it has exceeded the maximum view count (97435/50)\n",
      "[download] Downloading video 50 of 100\n",
      "[youtube] LFK0YlLWsq8: Downloading webpage\n"
     ]
    },
    {
     "name": "stderr",
     "output_type": "stream",
     "text": [
      "WARNING: Requested formats are incompatible for merge and will be merged into mkv.\n"
     ]
    },
    {
     "name": "stdout",
     "output_type": "stream",
     "text": [
      "[download] Destination: robots/ROBOTS IN THE 80s.f137.mp4\n",
      "[download] 100% of 6.37MiB in 01:3315KiB/s ETA 00:00\n",
      "[download] Destination: robots/ROBOTS IN THE 80s.mp4.f251\n",
      "[download] 100% of 998.25KiB in 00:1477KiB/s ETA 00:007\n",
      "[ffmpeg] Merging formats into \"robots/ROBOTS IN THE 80s.mkv\"\n",
      "Deleting original file robots/ROBOTS IN THE 80s.f137.mp4 (pass -k to keep)\n",
      "Deleting original file robots/ROBOTS IN THE 80s.mp4.f251 (pass -k to keep)\n",
      "[download] Downloading video 51 of 100\n",
      "[download] Skipping Publicidad '80s  Tente Robots (Argentina), because it has exceeded the maximum view count (235/50)\n",
      "[download] Downloading video 52 of 100\n",
      "[download] Skipping The History of Giant Robots in Pop Culture, because it has exceeded the maximum view count (9522/50)\n",
      "[download] Downloading video 53 of 100\n",
      "[download] Skipping World's Longest Field Goal- Robot vs NFL Kicker, because it has exceeded the maximum view count (49044185/50)\n",
      "[download] Downloading video 54 of 100\n",
      "[download] Skipping R is for Robots - A to Z of the 80's (Stella Artois Film Festival), because it has exceeded the maximum view count (789/50)\n",
      "[download] Downloading video 55 of 100\n",
      "[download] Skipping Robot Development History | 1986-2011 | Honda | ASIMO | SK BAJAJ, because it has exceeded the maximum view count (950/50)\n",
      "[download] Downloading video 56 of 100\n",
      "[download] Skipping Generation Zero - Open World Survival - 80's Theme and Robots (BETA), because it has exceeded the maximum view count (476/50)\n",
      "[download] Downloading video 57 of 100\n",
      "[download] Skipping Phillip & Holly Interview This Morning's First Robot Guest Sophia | This Morning, because it has exceeded the maximum view count (7735344/50)\n",
      "[download] Downloading video 58 of 100\n",
      "[download] Skipping More Than Meets the Eye, Part 1 | Transformers: Generation 1 | Season 1 | E01 | Hasbro Pulse, because it has exceeded the maximum view count (1010805/50)\n",
      "[download] Downloading video 59 of 100\n",
      "[download] Skipping Robots from the 80s, because it has exceeded the maximum view count (113/50)\n",
      "[download] Downloading video 60 of 100\n",
      "[download] Skipping ROBOTS RETRO (años 90), because it has exceeded the maximum view count (1317/50)\n",
      "[download] Downloading video 61 of 100\n",
      "[download] Skipping AUTOMATICA - Robots Vs. Music - Nigel Stanford, because it has exceeded the maximum view count (23555709/50)\n",
      "[download] Downloading video 62 of 100\n",
      "[download] Skipping Restoring Showbiz Pizza's Animatronic Robots!, because it has exceeded the maximum view count (2522278/50)\n",
      "[download] Downloading video 63 of 100\n",
      "[download] Skipping [4K] GUNDAM Robot in Japan GUNDAM FACTORY YOKOHAMA Gundam moves in Yokohama!, because it has exceeded the maximum view count (3830620/50)\n",
      "[download] Downloading video 64 of 100\n",
      "[download] Skipping War Robots| Teaming in free for all, because it has exceeded the maximum view count (77764/50)\n",
      "[download] Downloading video 65 of 100\n",
      "[download] Skipping Wolf Family⭐️Wolfoo Family Make DIY Robot Costume From Cardboard Boards, because it has exceeded the maximum view count (87155650/50)\n",
      "[download] Downloading video 66 of 100\n",
      "[download] Skipping When Will the Rolex Crisis End? - How To Burst The Bubble..., because it has exceeded the maximum view count (60/50)\n",
      "[download] Downloading video 67 of 100\n",
      "[download] Skipping Top 10 Mechs in Anime, because it has exceeded the maximum view count (1283484/50)\n",
      "[download] Downloading video 68 of 100\n",
      "[download] Skipping 80s and 90s UK Adverts: For Mash Get Smash Robots, because it has exceeded the maximum view count (3251/50)\n",
      "[download] Downloading video 69 of 100\n",
      "[download] Skipping Ultimate 80's Toy Omnibot 2000 Demo, because it has exceeded the maximum view count (3201/50)\n",
      "[download] Downloading video 70 of 100\n",
      "[download] Skipping ROBOTS by Dan Mangan official music video directed by Mike Lewis, because it has exceeded the maximum view count (869433/50)\n",
      "[download] Downloading video 71 of 100\n",
      "[youtube] r5ylX2HXGlQ: Downloading webpage\n",
      "[youtube] r5ylX2HXGlQ: Downloading MPD manifest\n"
     ]
    },
    {
     "name": "stderr",
     "output_type": "stream",
     "text": [
      "WARNING: Requested formats are incompatible for merge and will be merged into mkv.\n"
     ]
    },
    {
     "name": "stdout",
     "output_type": "stream",
     "text": [
      "[download] Destination: robots/80s Toy Robot - Tomy Omnibot Demo - 1984 - 80's Audio Cassette Player & Remote Control Functionality.f136.mp4\n",
      "[download]  45.6% of 62.93MiB at 54.20KiB/s ETA 10:46:21[download] Got server HTTP error: The read operation timed out. Retrying (attempt 1 of 10)...\n",
      "[download] Destination: robots/80s Toy Robot - Tomy Omnibot Demo - 1984 - 80's Audio Cassette Player & Remote Control Functionality.f136.mp4\n",
      "[download] 100% of 62.93MiB in 29:4962KiB/s ETA 00:00:33\n",
      "[download] Destination: robots/80s Toy Robot - Tomy Omnibot Demo - 1984 - 80's Audio Cassette Player & Remote Control Functionality.mp4.f251\n",
      "[download] 100% of 4.85MiB in 01:2954KiB/s ETA 00:00\n",
      "[ffmpeg] Merging formats into \"robots/80s Toy Robot - Tomy Omnibot Demo - 1984 - 80's Audio Cassette Player & Remote Control Functionality.mkv\"\n",
      "Deleting original file robots/80s Toy Robot - Tomy Omnibot Demo - 1984 - 80's Audio Cassette Player & Remote Control Functionality.f136.mp4 (pass -k to keep)\n",
      "Deleting original file robots/80s Toy Robot - Tomy Omnibot Demo - 1984 - 80's Audio Cassette Player & Remote Control Functionality.mp4.f251 (pass -k to keep)\n",
      "[download] Downloading video 72 of 100\n",
      "[download] Skipping Kraftwerk — THE ROBOTS  |  using ONLY Yamaha gear from the 80s, because it has exceeded the maximum view count (465/50)\n",
      "[download] Downloading video 73 of 100\n",
      "[download] Skipping AI Humanoid Robots Kept In The Mountains Become Too Intelligent For The People Around Them, because it has exceeded the maximum view count (1955232/50)\n",
      "[download] Downloading video 74 of 100\n",
      "[download] Skipping Lifestyle - Craft | Pretty bionic AI Robots may become your girl friend in future | Machine Learning, because it has exceeded the maximum view count (1673027/50)\n",
      "[download] Downloading video 75 of 100\n",
      "[download] Skipping This Forgotten Terrifying 80's Guilty Pleasure Has The Gore, Fear, And Cheese In Perfect Portions!, because it has exceeded the maximum view count (15835/50)\n",
      "[download] Downloading video 76 of 100\n",
      "[download] Skipping Top 10 Best Anime Series of The Pre-90s, because it has exceeded the maximum view count (406535/50)\n",
      "[download] Downloading video 77 of 100\n",
      "[download] Skipping Glass, bullets, and robots were more dangerous in the 80s., because it has exceeded the maximum view count (99/50)\n",
      "[download] Downloading video 78 of 100\n",
      "[download] Skipping The Real Reason These Popular '80s Cartoons Were Canceled, because it has exceeded the maximum view count (650719/50)\n",
      "[download] Downloading video 79 of 100\n",
      "[download] Skipping Transformers: Robots In Disguise - Soundwave Clip S04E21 Part 1 1080p, because it has exceeded the maximum view count (115920/50)\n",
      "[download] Downloading video 80 of 100\n",
      "[download] Skipping 12 Notorious 80s Action Movies That Are So Bad That They're Good - Don't Lie We've All Enjoyed Them!, because it has exceeded the maximum view count (15406/50)\n",
      "[download] Downloading video 81 of 100\n",
      "[download] Skipping Girl Code | Robot Chicken | Adult Swim, because it has exceeded the maximum view count (4196514/50)\n",
      "[download] Downloading video 82 of 100\n",
      "[download] Skipping E-Vox \"The Robots Dance Again\" 80s Freestyle, because it has exceeded the maximum view count (2322/50)\n",
      "[download] Downloading video 83 of 100\n",
      "[download] Skipping LOS 80'S Y ROBOTS - GENERATION ZERO | Gameplay Español, because it has exceeded the maximum view count (3687/50)\n",
      "[download] Downloading video 84 of 100\n",
      "[download] Skipping Robots y Tv's de los 80's - Museo de Informática, because it has exceeded the maximum view count (297/50)\n",
      "[download] Downloading video 85 of 100\n",
      "[download] Skipping History of the Toy Robot, because it has exceeded the maximum view count (10014/50)\n",
      "[download] Downloading video 86 of 100\n",
      "[download] Skipping GODZILLA VS MECHAGODZILLA, Jun Fukuda, 1974 - King Caesar & Godzilla Fight Mechagodzilla, because it has exceeded the maximum view count (14713332/50)\n",
      "[download] Downloading video 87 of 100\n",
      "[youtube] 4zoZphbWk0Q: Downloading webpage\n",
      "[youtube] 4zoZphbWk0Q: Downloading MPD manifest\n"
     ]
    },
    {
     "name": "stderr",
     "output_type": "stream",
     "text": [
      "WARNING: Requested formats are incompatible for merge and will be merged into mkv.\n"
     ]
    },
    {
     "name": "stdout",
     "output_type": "stream",
     "text": [
      "[dashsegments] Total fragments: 249\n",
      "[download] Destination: robots/Robocop - Episode 11 - Robots Revenge - By Back To The 80s 2.mp4.f244\n",
      "[download] 100% of 52.62MiB in 04:094.22KiB/s ETA 00:00278\n",
      "[download] Destination: robots/Robocop - Episode 11 - Robots Revenge - By Back To The 80s 2.mp4.f140\n",
      "[download]  83.7% of 19.54MiB at 45.95KiB/s ETA 01:10:41"
     ]
    },
    {
     "name": "stderr",
     "output_type": "stream",
     "text": [
      "\n",
      "ERROR: Interrupted by user\n"
     ]
    },
    {
     "data": {
      "text/plain": [
       "256"
      ]
     },
     "execution_count": 24,
     "metadata": {},
     "output_type": "execute_result"
    }
   ],
   "source": [
    "# GENERAL DOWNLOAD OPTIONS\n",
    "# (download any of first N youtube vids with robots in title and CC license - add them to directory robots)\n",
    "\n",
    "##### Search top 100 videos by term \"80s robots\" filter for those with max views 50\n",
    "#os.system(\"youtube-dl 'ytsearch100:80s robots' --max-views 50 --output 'robots/%(title)s.mp4' \")\n",
    "\n",
    "##### filter by --max-filesize (not checked)\n",
    "#os.system(\"youtube-dl 'ytsearch100:80s robots' --max-filesize 500 --output 'robots/%(title)s.mp4' \")\n",
    "\n",
    "# filter by CC license\n",
    "#os.system(\"youtube-dl 'ytsearch3:80s robots' --match-filter 'license=Creative Commons' --output 'robots/%(title)s.mp4' \")\n",
    "\n",
    "########################################################################################\n",
    "########################################################################################\n",
    "\n",
    "# DOWNLOAD METHOD FOR SHORT CLIPS ONLY\n",
    "\n",
    "# t is duration to is end time, ss is start time\n",
    "#os.system(\"ffmpeg $(youtube-dl -g 'https://www.youtube.com/watch?v=oHg5SJYRHA0' | sed 's/^/-ss 00:55 -t 01:00 -i /') -c copy out2.mkv\")\n",
    "\n",
    "#os.system(\"youtube-dl -k --external-downloader ffmpeg --external-downloader-args '-ss 00:00:05.00 -to 00:00:10.00' oHg5SJYRHA0\")\n",
    "\n",
    "os.system(\"youtube-dl --autonumber-start 1 -k --external-downloader ffmpeg --external-downloader-args '-ss 00:00:15.00 -t 00:00:2.00' 'ytsearch5:robotic dancing' --output 'robotsT/%(autonumber)s.mp4' \")\n",
    "\n"
   ]
  },
  {
   "cell_type": "markdown",
   "id": "2c4459e9",
   "metadata": {},
   "source": [
    "-------------------------------------------------------------------------------------"
   ]
  },
  {
   "cell_type": "markdown",
   "id": "a0322656",
   "metadata": {},
   "source": [
    "<b>REMOVE THE FRAGMENT FILES</b>\n",
    "\n"
   ]
  },
  {
   "cell_type": "code",
   "execution_count": 10,
   "id": "339ddbf5",
   "metadata": {},
   "outputs": [
    {
     "name": "stdout",
     "output_type": "stream",
     "text": [
      "ok\n",
      "ok\n",
      "ok\n",
      "ok\n",
      "ok\n",
      "ok\n",
      "00009.mp4.mkv\n",
      "POPPIN JOHN _ ROBOTBOYS _ BEST DANCE ROUTINE EVER.mp4\n",
      "00005.mp4\n",
      "POPPIN JOHN _ ROBOTBOYS _ BEST DANCE ROUTINE EVER.f398.mp4\n",
      "00007.mp4.mkv\n",
      "00005.f398.mp4\n"
     ]
    }
   ],
   "source": [
    "\n",
    "# # assign directory\n",
    "directory = 'robotST'\n",
    " \n",
    "# # iterate over files in\n",
    "# # that directory to remove fragments\n",
    "for filename in os.listdir(directory):\n",
    "    if fnmatch.fnmatch(filename, '*.mp4'):\n",
    "        print(\"ok\")\n",
    "    elif fnmatch.fnmatch(filename, '*.mkv'):\n",
    "        print(\"ok\")\n",
    "    else :\n",
    "        f = os.path.join(directory, filename)\n",
    "        os.remove(f)\n",
    "        \n",
    "for filename in os.listdir(directory):\n",
    "    print(filename)\n",
    "        \n",
    "        "
   ]
  },
  {
   "cell_type": "markdown",
   "id": "bb8e3022",
   "metadata": {},
   "source": [
    "----------------------------------------------------------------------------------------------------"
   ]
  },
  {
   "cell_type": "markdown",
   "id": "6a1b0ae7",
   "metadata": {},
   "source": [
    "<b>CUT FILES INTO PIECES AND CONCATENATE</b>"
   ]
  },
  {
   "cell_type": "code",
   "execution_count": 1,
   "id": "9082de1b",
   "metadata": {},
   "outputs": [],
   "source": [
    "#################################################################################\n",
    "#### Take a random cut of a few seconds from a few clips ########################\n",
    "#### Add it to the array and concatenate them altogether for output #############\n",
    "#################################################################################\n",
    "\n",
    "# temp1 = VideoFileClip(\"temp1.mp4\", audio=False) \n",
    "# temp2 = VideoFileClip(\"temp2.mp4\", audio=False) \n",
    "\n",
    "\n",
    "# randE = random.randint(0,int(temp1.duration))\n",
    "\n",
    "# clip1 = temp1.subclip(randE,randE+2) \n",
    "# clip2 = temp2.subclip(10, 12)   \n",
    "# clip3 = temp1.subclip(8, 10)   \n",
    "\n",
    "# # cutting of two clips working but the time cuts are weird and wrong\n",
    "# final_clip = concatenate_videoclips([clip1,clip2,clip3])\n",
    "# final_clip.write_videofile(\"my_concatenation2A.mp4\")"
   ]
  },
  {
   "cell_type": "code",
   "execution_count": 2,
   "id": "d56d1507",
   "metadata": {},
   "outputs": [],
   "source": [
    "########################################################################################\n",
    "#### Take a random cut of a few seconds from anywhere within the duration of the clip ##\n",
    "#### Add it to the array and concatenate them altogether for output ####################\n",
    "########################################################################################\n",
    "\n",
    "# temp = VideoFileClip(\"temp.mp4\", audio=False) \n",
    "\n",
    "# allClips = []\n",
    "\n",
    "# for i in range(1,20):\n",
    "#     randE = random.randint(3,int(temp.duration))\n",
    "#     allClips.append(eider2.subclip(randE,randE+2))\n",
    "\n",
    "# final_clip = concatenate_videoclips(allClips)\n",
    "# final_clip.write_videofile(\"my_concatenation2E.mp4\")"
   ]
  },
  {
   "cell_type": "code",
   "execution_count": 34,
   "id": "3f4b9b1d",
   "metadata": {},
   "outputs": [
    {
     "name": "stdout",
     "output_type": "stream",
     "text": [
      "eider.mp4\n",
      "00009.mp4.mkv\n",
      "Robots Dancing in the 80s.mkv\n",
      "POPPIN JOHN _ ROBOTBOYS _ BEST DANCE ROUTINE EVER.mp4\n",
      "00005.mp4\n",
      "80s Toy Robot - Tomy Omnibot Demo - 1984 - 80's Audio Cassette Player & Remote Control Functionality.mkv\n",
      "Cute Duckling 🔴 Funniest Baby Ducks Videos Compilation 2020-e90eWYPNtJ8.mkv\n",
      "POPPIN JOHN _ ROBOTBOYS _ BEST DANCE ROUTINE EVER.f398.mp4\n",
      "Eider à tête grise (Somateria spectabilis) King Eider-vUL3-LFzAi8.mp4\n",
      "00007.mp4.mkv\n",
      "eider2.mp4\n",
      "Robots in the 80s [YTP].mp4\n",
      "ROBOTS IN THE 80s.mkv\n",
      "00005.f398.mp4\n",
      "Moviepy - Building video my_concatenation2E.mp4.\n",
      "Moviepy - Writing video my_concatenation2E.mp4\n",
      "\n"
     ]
    },
    {
     "name": "stderr",
     "output_type": "stream",
     "text": [
      "                                                                                \r"
     ]
    },
    {
     "name": "stdout",
     "output_type": "stream",
     "text": [
      "Moviepy - Done !\n",
      "Moviepy - video ready my_concatenation2E.mp4\n"
     ]
    }
   ],
   "source": [
    "########################################################################################\n",
    "# Automate process across an entire directory\n",
    "########################################################################################\n",
    "\n",
    "# NOTE : This is glitchy at the moment, which is nice but... seems to be to do with size of vide\n",
    "# Need to add a crop or command to deal with different types of videos ideally\n",
    "########################################################################################\n",
    "########################################################################################\n",
    "\n",
    "# name of directory\n",
    "directory = 'all'\n",
    "\n",
    "allClips = []\n",
    "\n",
    "# iterate over directory\n",
    "for filename in os.listdir(directory):\n",
    "    \n",
    "    print(filename)\n",
    "    \n",
    "    # create videoclip\n",
    "    temp = VideoFileClip(directory+\"/\"+filename, audio=False) \n",
    "    \n",
    "    # get duration of clip\n",
    "    tDuration = temp.duration\n",
    "    \n",
    "    # check long enough to cut portion out\n",
    "    if tDuration >15 :\n",
    "        randE = random.randint(1,int(tDuration))\n",
    "        allClips.append(temp.subclip(randE,randE+5))\n",
    "        \n",
    "    # if not, add as it is\n",
    "    else :\n",
    "        allClips.append(temp)\n",
    "    \n",
    "final_clip = concatenate_videoclips(allClips)\n",
    "final_clip.write_videofile(\"my_concatenation2E.mp4\")"
   ]
  },
  {
   "cell_type": "code",
   "execution_count": null,
   "id": "1d499674",
   "metadata": {},
   "outputs": [],
   "source": []
  }
 ],
 "metadata": {
  "kernelspec": {
   "display_name": "Python 3 (ipykernel)",
   "language": "python",
   "name": "python3"
  },
  "language_info": {
   "codemirror_mode": {
    "name": "ipython",
    "version": 3
   },
   "file_extension": ".py",
   "mimetype": "text/x-python",
   "name": "python",
   "nbconvert_exporter": "python",
   "pygments_lexer": "ipython3",
   "version": "3.7.11"
  }
 },
 "nbformat": 4,
 "nbformat_minor": 5
}
